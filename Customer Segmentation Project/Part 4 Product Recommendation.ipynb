{
 "cells": [
  {
   "cell_type": "markdown",
   "metadata": {},
   "source": [
    "## Comparison of Model 2 created with basic RFM model"
   ]
  },
  {
   "cell_type": "code",
   "execution_count": 54,
   "metadata": {},
   "outputs": [],
   "source": [
    "# Import The Libraries\n",
    "import pandas as pd, matplotlib.pyplot as plt, numpy as np, seaborn as sns, scipy as sp, warnings\n",
    "warnings.filterwarnings(\"ignore\")"
   ]
  },
  {
   "cell_type": "code",
   "execution_count": 28,
   "metadata": {},
   "outputs": [
    {
     "name": "stdout",
     "output_type": "stream",
     "text": [
      "0    3601\n",
      "1    1499\n",
      "2     778\n",
      "Name: cluster_final, dtype: int64\n"
     ]
    }
   ],
   "source": [
    "#read prod category and rfm data\n",
    "prod_cat = pd.read_pickle('PCA_RED_DESC.pkl')\n",
    "rfm = pd.read_pickle('rfm.pkl')\n",
    "final_data = pd.merge(prod_cat,rfm,on='Customer ID')\n",
    "final_data_new = pd.merge(prod_cat,rfm,on='Customer ID')\n",
    "final_data.drop(['RFM_Segment','Customer ID','R','F','M','Final_Price','RFM_Score'],axis = 'columns',inplace=True)\n",
    "final_data.rename(columns={0:'0',1:'1',2:'2',3:'3',4:'4',5:'5'})\n",
    "#Rescaling\n",
    "from sklearn.preprocessing import MinMaxScaler\n",
    "numeric_columns = final_data.columns.values.tolist()\n",
    "scaler = MinMaxScaler() \n",
    "final_data[numeric_columns] = scaler.fit_transform(final_data[numeric_columns])\n",
    "from sklearn.cluster import KMeans\n",
    "scores_2 = []\n",
    "\n",
    "range_values = range(1, 20)\n",
    "\n",
    "for i in range_values:\n",
    "    \n",
    "    kmeans = KMeans(n_clusters= i)\n",
    "    kmeans.fit(final_data)\n",
    "    scores_2.append(kmeans.inertia_)\n",
    "kmeans = KMeans(3)\n",
    "kmeans.fit(final_data)\n",
    "labels = kmeans.labels_\n",
    "y_kmeans = kmeans.fit_predict(final_data)\n",
    "df_cluster_dr = pd.concat([final_data_new, pd.DataFrame({'cluster_final':labels})], axis = 1)\n",
    "print(df_cluster_dr['cluster_final'].value_counts())"
   ]
  },
  {
   "cell_type": "code",
   "execution_count": 16,
   "metadata": {},
   "outputs": [],
   "source": [
    "dataset=pd.read_excel('C:/Personal/NUIG/Project-DA/online_retail_II.xlsx',sheet_name=None)\n",
    "data_before = dataset['Year 2009-2010']\n",
    "data_after = dataset['Year 2010-2011']"
   ]
  },
  {
   "cell_type": "code",
   "execution_count": 73,
   "metadata": {},
   "outputs": [],
   "source": [
    "#select one customer in both datasets\n",
    "#get the cluster of that customer\n",
    "#recommend top 20 customer wala thing\n",
    "#remove all descriptions he already bought\n",
    "#check in after dataset how many matches"
   ]
  },
  {
   "cell_type": "code",
   "execution_count": 17,
   "metadata": {},
   "outputs": [],
   "source": [
    "#remove all customers with NA customer ID\n",
    "data_before = data_before[data_before['Customer ID'].notna()]\n",
    "data_after = data_after[data_after['Customer ID'].notna()]\n",
    "cust_before = (data_before.sample(n=20)['Customer ID']).tolist()"
   ]
  },
  {
   "cell_type": "code",
   "execution_count": 31,
   "metadata": {},
   "outputs": [
    {
     "name": "stdout",
     "output_type": "stream",
     "text": [
      "Customer Not present\n",
      "Customer Not present\n",
      "Description matching rate 38.84 0 [0]\n",
      "Description matching rate 32.05 0 [0]\n",
      "Description matching rate 10.43 0 [0]\n",
      "Description matching rate 20.16 0 [0]\n",
      "Customer Not present\n",
      "Description matching rate 28.44 0 [0]\n",
      "Description matching rate 14.29 0 [0]\n",
      "Description matching rate 12.76 0 [0]\n",
      "Description matching rate 36.36 0 [0]\n",
      "Description matching rate 100.0 1 [1]\n",
      "Description matching rate 11.54 1 [1]\n",
      "Customer Not present\n",
      "Description matching rate 32.2 0 [0]\n",
      "Customer Not present\n",
      "Description matching rate 100.0 1 [1]\n",
      "Description matching rate 23.74 0 [0]\n",
      "Description matching rate 31.51 0 [0]\n",
      "Customer Not present\n"
     ]
    }
   ],
   "source": [
    "percent_match = []\n",
    "for cust in cust_before:\n",
    "    if cust in data_after['Customer ID']:\n",
    "        cluster = df_cluster_dr[df_cluster_dr['Customer ID'] == cust]\n",
    "        if cluster['cluster_final'].item() == 0:\n",
    "            d = kmeans.transform(final_data)[:, 0]\n",
    "        elif cluster['cluster_final'].item() == 1:\n",
    "            d = kmeans.transform(final_data)[:, 1]\n",
    "        else:\n",
    "            d = kmeans.transform(final_data)[:, 2]\n",
    "        #select 20 nearest points to that cluster and get their indices\n",
    "        ind = np.argsort(d)[::][:30]\n",
    "        #get the data of these 20 customers\n",
    "        data_recom_id = df_cluster_dr[df_cluster_dr.index.isin(ind)]\n",
    "        #get the desc of that customer before recommending\n",
    "        data_bf = data_before[data_before['Customer ID'] == cust]['Description'].apply(str).unique()\n",
    "        #results of recommendation\n",
    "        data_recom = data_recom_id.merge(data_before, on='Customer ID', how='left')\n",
    "        descriptions=data_recom['Description'].apply(str).unique()\n",
    "        des_final = np.setdiff1d(descriptions,data_bf)\n",
    "        #evaluate with data_after\n",
    "        data_input = df_cluster_dr[df_cluster_dr['Customer ID'] == cust]\n",
    "        data_after_1 = data_input.merge(data_after, on='Customer ID', how='left')\n",
    "        descriptions_after=data_after_1['Description'].apply(str).unique()\n",
    "        percent = len([x for x in descriptions_after if x in des_final])/len(descriptions_after)\n",
    "        print('Description matching rate',round(percent*100,2),cluster['cluster_final'].item(),data_recom_id['cluster_final'].unique())\n",
    "        percent_match.append(percent)\n",
    "    else:\n",
    "        print('Customer Not present')"
   ]
  },
  {
   "cell_type": "code",
   "execution_count": 32,
   "metadata": {},
   "outputs": [
    {
     "data": {
      "text/plain": [
       "0.35164894646270106"
      ]
     },
     "execution_count": 32,
     "metadata": {},
     "output_type": "execute_result"
    }
   ],
   "source": [
    "sum(percent_match)/len(percent_match)"
   ]
  },
  {
   "cell_type": "code",
   "execution_count": 38,
   "metadata": {},
   "outputs": [
    {
     "name": "stdout",
     "output_type": "stream",
     "text": [
      "2    2129\n",
      "0    1985\n",
      "1    1764\n",
      "Name: cluster_final, dtype: int64\n"
     ]
    }
   ],
   "source": [
    "#read prod category and rfm data\n",
    "prod_cat = pd.read_pickle('PCA_RED_DESC.pkl')\n",
    "rfm = pd.read_pickle('rfm.pkl')\n",
    "final_data_1 = pd.merge(prod_cat,rfm,on='Customer ID')\n",
    "final_data_1_new = pd.merge(prod_cat,rfm,on='Customer ID')\n",
    "final_data_1.rename(columns={0:'0',1:'1',2:'2',3:'3',4:'4',5:'5'})\n",
    "final_data_1.drop(['RFM_Segment','Customer ID','R','F','M','Final_Price',0,1,2,3,4,5],axis = 'columns',inplace=True)\n",
    "#Rescaling\n",
    "from sklearn.preprocessing import MinMaxScaler\n",
    "numeric_columns = final_data_1.columns.values.tolist()\n",
    "scaler = MinMaxScaler() \n",
    "final_data_1[numeric_columns] = scaler.fit_transform(final_data_1[numeric_columns])\n",
    "from sklearn.cluster import KMeans\n",
    "scores_2 = []\n",
    "\n",
    "range_values = range(1, 20)\n",
    "\n",
    "for i in range_values:\n",
    "    \n",
    "    kmeans_1 = KMeans(n_clusters= i)\n",
    "    kmeans_1.fit(final_data_1)\n",
    "    scores_2.append(kmeans_1.inertia_)\n",
    "kmeans_1 = KMeans(3)\n",
    "kmeans_1.fit(final_data_1)\n",
    "labels_1 = kmeans_1.labels_\n",
    "y_kmeans_1 = kmeans_1.fit_predict(final_data_1)\n",
    "df_cluster_dr_1 = pd.concat([final_data_1_new, pd.DataFrame({'cluster_final':labels_1})], axis = 1)\n",
    "print(df_cluster_dr_1['cluster_final'].value_counts())"
   ]
  },
  {
   "cell_type": "code",
   "execution_count": 39,
   "metadata": {},
   "outputs": [
    {
     "name": "stdout",
     "output_type": "stream",
     "text": [
      "Count: 0 1985 120.28 52.75 274.99\n",
      "Count: 1 1764 483.18 37.28 317.88\n",
      "Count: 2 2129 40.61 286.03 543.67\n",
      "score de silhouette: 0.680\n"
     ]
    }
   ],
   "source": [
    "from sklearn.metrics import silhouette_samples,silhouette_score\n",
    "for i in set(df_cluster_dr_1['cluster_final']):\n",
    "    customer_count = len(df_cluster_dr_1[df_cluster_dr_1['cluster_final']==i])\n",
    "    r_mean = round(np.mean(df_cluster_dr_1[df_cluster_dr_1['cluster_final']==i]['Recency']),2)\n",
    "    f_mean = round(np.mean(df_cluster_dr_1[df_cluster_dr_1['cluster_final']==i]['Frequency']),2)\n",
    "    m_mean = round(np.mean(df_cluster_dr_1[df_cluster_dr_1['cluster_final']==i]['Monetary_value']),2)\n",
    "    print('Count:',i,customer_count,r_mean,f_mean,m_mean)\n",
    "    \n",
    "silhouette_avg = silhouette_score(final_data, y_kmeans)\n",
    "print('score de silhouette: {:<.3f}'.format(silhouette_avg))"
   ]
  },
  {
   "cell_type": "code",
   "execution_count": 52,
   "metadata": {},
   "outputs": [
    {
     "name": "stdout",
     "output_type": "stream",
     "text": [
      "Customer Not present\n",
      "Customer Not present\n",
      "Description matching rate 34.71 2 [2]\n",
      "Description matching rate 30.77 2 [2]\n",
      "Description matching rate 11.23 2 [2]\n",
      "Description matching rate 17.83 2 [2]\n",
      "Customer Not present\n",
      "Description matching rate 29.38 2 [2]\n",
      "Description matching rate 11.43 2 [2]\n",
      "Description matching rate 14.11 2 [2]\n",
      "Description matching rate 38.38 2 [2]\n",
      "Description matching rate 0.0 1 [1]\n",
      "Description matching rate 19.23 0 [0]\n",
      "Customer Not present\n",
      "Description matching rate 39.83 2 [2]\n",
      "Customer Not present\n",
      "Description matching rate 0.0 1 [1]\n",
      "Description matching rate 26.52 2 [2]\n",
      "Description matching rate 31.51 2 [2]\n",
      "Customer Not present\n"
     ]
    }
   ],
   "source": [
    "percent_match = []\n",
    "for cust in cust_before:\n",
    "    if cust in data_after['Customer ID']:\n",
    "        cluster = df_cluster_dr_1[df_cluster_dr_1['Customer ID'] == cust]\n",
    "        if cluster['cluster_final'].item() == 2:\n",
    "            d = kmeans_1.transform(final_data_1)[:, 0]\n",
    "        elif cluster['cluster_final'].item() == 0:\n",
    "            d = kmeans_1.transform(final_data_1)[:, 1]\n",
    "        else:\n",
    "            d = kmeans_1.transform(final_data_1)[:, 2]\n",
    "        #select 20 nearest points to that cluster and get their indices\n",
    "        ind = np.argsort(d)[::][:30]\n",
    "        #get the data of these 20 customers\n",
    "        data_recom_id = df_cluster_dr_1[df_cluster_dr_1.index.isin(ind)]\n",
    "        #get the desc of that customer before recommending\n",
    "        data_bf = data_before[data_before['Customer ID'] == cust]['Description'].apply(str).unique()\n",
    "        #results of recommendation\n",
    "        data_recom = data_recom_id.merge(data_before, on='Customer ID', how='left')\n",
    "        descriptions=data_recom['Description'].apply(str).unique()\n",
    "        des_final = np.setdiff1d(descriptions,data_bf)\n",
    "        #evaluate with data_after\n",
    "        data_input = df_cluster_dr_1[df_cluster_dr_1['Customer ID'] == cust]\n",
    "        data_after_1 = data_input.merge(data_after, on='Customer ID', how='left')\n",
    "        descriptions_after=data_after_1['Description'].apply(str).unique()\n",
    "        percent = len([x for x in descriptions_after if x in des_final])/len(descriptions_after)\n",
    "        print('Description matching rate',round(percent*100,2),cluster['cluster_final'].item(),data_recom_id['cluster_final'].unique())\n",
    "        percent_match.append(percent)\n",
    "    else:\n",
    "        print('Customer Not present')"
   ]
  },
  {
   "cell_type": "code",
   "execution_count": 53,
   "metadata": {},
   "outputs": [
    {
     "data": {
      "text/plain": [
       "0.21780571649378147"
      ]
     },
     "execution_count": 53,
     "metadata": {},
     "output_type": "execute_result"
    }
   ],
   "source": [
    "sum(percent_match)/len(percent_match)"
   ]
  },
  {
   "cell_type": "code",
   "execution_count": 55,
   "metadata": {},
   "outputs": [
    {
     "name": "stdout",
     "output_type": "stream",
     "text": [
      "1    3602\n",
      "2    1498\n",
      "0     778\n",
      "Name: cluster_final, dtype: int64\n"
     ]
    }
   ],
   "source": [
    "#read prod category and rfm data\n",
    "prod_cat = pd.read_pickle('PCA_RED_DESC.pkl')\n",
    "rfm = pd.read_pickle('rfm.pkl')\n",
    "final_data_1 = pd.merge(prod_cat,rfm,on='Customer ID')\n",
    "final_data_1_new = pd.merge(prod_cat,rfm,on='Customer ID')\n",
    "final_data_1.rename(columns={0:'0',1:'1',2:'2',3:'3',4:'4',5:'5'})\n",
    "final_data_1.drop(['RFM_Segment','Customer ID','R','F','M','Final_Price',0,1,2,3,4,5,'RFM_Score'],axis = 'columns',inplace=True)\n",
    "#Rescaling\n",
    "from sklearn.preprocessing import MinMaxScaler\n",
    "numeric_columns = final_data_1.columns.values.tolist()\n",
    "scaler = MinMaxScaler() \n",
    "final_data_1[numeric_columns] = scaler.fit_transform(final_data_1[numeric_columns])\n",
    "from sklearn.cluster import KMeans\n",
    "scores_2 = []\n",
    "\n",
    "range_values = range(1, 20)\n",
    "\n",
    "for i in range_values:\n",
    "    \n",
    "    kmeans_1 = KMeans(n_clusters= i)\n",
    "    kmeans_1.fit(final_data_1)\n",
    "    scores_2.append(kmeans_1.inertia_)\n",
    "kmeans_1 = KMeans(3)\n",
    "kmeans_1.fit(final_data_1)\n",
    "labels_1 = kmeans_1.labels_\n",
    "y_kmeans_1 = kmeans_1.fit_predict(final_data_1)\n",
    "df_cluster_dr_1 = pd.concat([final_data_1_new, pd.DataFrame({'cluster_final':labels_1})], axis = 1)\n",
    "print(df_cluster_dr_1['cluster_final'].value_counts())"
   ]
  },
  {
   "cell_type": "code",
   "execution_count": 56,
   "metadata": {},
   "outputs": [
    {
     "name": "stdout",
     "output_type": "stream",
     "text": [
      "Count: 0 778 598.14 29.73 346.31\n",
      "Count: 1 3602 52.77 186.33 408.92\n",
      "Count: 2 1498 348.54 56.84 348.29\n",
      "score de silhouette: 0.680\n"
     ]
    }
   ],
   "source": [
    "from sklearn.metrics import silhouette_samples,silhouette_score\n",
    "for i in set(df_cluster_dr_1['cluster_final']):\n",
    "    customer_count = len(df_cluster_dr_1[df_cluster_dr_1['cluster_final']==i])\n",
    "    r_mean = round(np.mean(df_cluster_dr_1[df_cluster_dr_1['cluster_final']==i]['Recency']),2)\n",
    "    f_mean = round(np.mean(df_cluster_dr_1[df_cluster_dr_1['cluster_final']==i]['Frequency']),2)\n",
    "    m_mean = round(np.mean(df_cluster_dr_1[df_cluster_dr_1['cluster_final']==i]['Monetary_value']),2)\n",
    "    print('Count:',i,customer_count,r_mean,f_mean,m_mean)\n",
    "    \n",
    "silhouette_avg = silhouette_score(final_data, y_kmeans)\n",
    "print('score de silhouette: {:<.3f}'.format(silhouette_avg))"
   ]
  },
  {
   "cell_type": "code",
   "execution_count": 57,
   "metadata": {},
   "outputs": [
    {
     "name": "stdout",
     "output_type": "stream",
     "text": [
      "Customer Not present\n",
      "Customer Not present\n",
      "Description matching rate 15.7 1 [2]\n",
      "Description matching rate 12.82 1 [2]\n",
      "Description matching rate 5.61 1 [2]\n",
      "Description matching rate 7.75 1 [2]\n",
      "Customer Not present\n",
      "Description matching rate 17.06 1 [2]\n",
      "Description matching rate 8.57 1 [2]\n",
      "Description matching rate 5.17 1 [2]\n",
      "Description matching rate 17.17 1 [2]\n",
      "Description matching rate 100.0 2 [1]\n",
      "Description matching rate 50.0 2 [1]\n",
      "Customer Not present\n",
      "Description matching rate 22.03 1 [2]\n",
      "Customer Not present\n",
      "Description matching rate 100.0 2 [1]\n",
      "Description matching rate 11.62 1 [2]\n",
      "Description matching rate 14.61 1 [2]\n",
      "Customer Not present\n"
     ]
    }
   ],
   "source": [
    "percent_match = []\n",
    "for cust in cust_before:\n",
    "    if cust in data_after['Customer ID']:\n",
    "        cluster = df_cluster_dr_1[df_cluster_dr_1['Customer ID'] == cust]\n",
    "        if cluster['cluster_final'].item() == 2:\n",
    "            d = kmeans_1.transform(final_data_1)[:, 0]\n",
    "        elif cluster['cluster_final'].item() == 0:\n",
    "            d = kmeans_1.transform(final_data_1)[:, 1]\n",
    "        else:\n",
    "            d = kmeans_1.transform(final_data_1)[:, 2]\n",
    "        #select 20 nearest points to that cluster and get their indices\n",
    "        ind = np.argsort(d)[::][:30]\n",
    "        #get the data of these 20 customers\n",
    "        data_recom_id = df_cluster_dr_1[df_cluster_dr_1.index.isin(ind)]\n",
    "        #get the desc of that customer before recommending\n",
    "        data_bf = data_before[data_before['Customer ID'] == cust]['Description'].apply(str).unique()\n",
    "        #results of recommendation\n",
    "        data_recom = data_recom_id.merge(data_before, on='Customer ID', how='left')\n",
    "        descriptions=data_recom['Description'].apply(str).unique()\n",
    "        des_final = np.setdiff1d(descriptions,data_bf)\n",
    "        #evaluate with data_after\n",
    "        data_input = df_cluster_dr_1[df_cluster_dr_1['Customer ID'] == cust]\n",
    "        data_after_1 = data_input.merge(data_after, on='Customer ID', how='left')\n",
    "        descriptions_after=data_after_1['Description'].apply(str).unique()\n",
    "        percent = len([x for x in descriptions_after if x in des_final])/len(descriptions_after)\n",
    "        print('Description matching rate',round(percent*100,2),cluster['cluster_final'].item(),data_recom_id['cluster_final'].unique())\n",
    "        percent_match.append(percent)\n",
    "    else:\n",
    "        print('Customer Not present')"
   ]
  },
  {
   "cell_type": "code",
   "execution_count": 58,
   "metadata": {},
   "outputs": [
    {
     "data": {
      "text/plain": [
       "0.27723431230187"
      ]
     },
     "execution_count": 58,
     "metadata": {},
     "output_type": "execute_result"
    }
   ],
   "source": [
    "sum(percent_match)/len(percent_match)"
   ]
  },
  {
   "cell_type": "code",
   "execution_count": null,
   "metadata": {},
   "outputs": [],
   "source": []
  },
  {
   "cell_type": "code",
   "execution_count": null,
   "metadata": {},
   "outputs": [],
   "source": []
  }
 ],
 "metadata": {
  "kernelspec": {
   "display_name": "Python 3",
   "language": "python",
   "name": "python3"
  },
  "language_info": {
   "codemirror_mode": {
    "name": "ipython",
    "version": 3
   },
   "file_extension": ".py",
   "mimetype": "text/x-python",
   "name": "python",
   "nbconvert_exporter": "python",
   "pygments_lexer": "ipython3",
   "version": "3.8.5"
  }
 },
 "nbformat": 4,
 "nbformat_minor": 4
}
